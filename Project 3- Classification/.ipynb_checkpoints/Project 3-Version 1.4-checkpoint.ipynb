{
 "cells": [
  {
   "cell_type": "code",
   "execution_count": 16,
   "metadata": {},
   "outputs": [
    {
     "name": "stdout",
     "output_type": "stream",
     "text": [
      "(70000, 784)\n",
      "(70000,)\n",
      "(60000, 784)\n",
      "(10000, 784)\n",
      "(60000,)\n",
      "(10000,)\n"
     ]
    }
   ],
   "source": [
    "from sklearn.datasets import fetch_mldata\n",
    "from sklearn.model_selection import train_test_split\n",
    "import numpy as np\n",
    "import matplotlib.pyplot as plt\n",
    "%matplotlib inline\n",
    "import scipy.sparse\n",
    "\n",
    "\n",
    "\n",
    "mnist = fetch_mldata('MNIST original')\n",
    "# These are the images\n",
    "# There are 70,000 images (28 by 28 images for a dimensionality of 784)\n",
    "print(mnist.data.shape)\n",
    "# These are the labels\n",
    "print(mnist.target.shape)\n",
    "train_image, test_image, train_label, test_label =\n",
    "                                            train_test_split(mnist.data, mnist.target, test_size=1/7.0, random_state=0)\n",
    "print(train_image.shape)\n",
    "print(test_image.shape)\n",
    "print(train_label.shape)\n",
    "print(test_label.shape)#Showing the MNIST images and labels\n"
   ]
  },
  {
   "cell_type": "code",
   "execution_count": 14,
   "metadata": {},
   "outputs": [
    {
     "data": {
      "image/png": "[encoded data removed]",
      "text/plain": [
       "<matplotlib.figure.Figure at 0x1a22f88a58>"
      ]
     },
     "metadata": {},
     "output_type": "display_data"
    }
   ],
   "source": [
    "\n",
    "plt.figure(figsize=(20,4))\n",
    "for index, (image, label) in enumerate(zip(train_image[0:5], train_label[0:5])):\n",
    "    plt.subplot(1, 5, index + 1)\n",
    "    plt.imshow(np.reshape(image, (28,28)), cmap=plt.cm.PuRd)\n",
    "    plt.title('Training: %i\\n' % label, fontsize = 20)\n",
    "plt.show()"
   ]
  },
  {
   "cell_type": "code",
   "execution_count": 30,
   "metadata": {
    "collapsed": true
   },
   "outputs": [
    {
     "name": "stdout",
     "output_type": "stream",
     "text": [
      "one hot vector:\n"
     ]
    },
    {
     "data": {
      "text/plain": [
       "array([[ 0.,  0.,  0., ...,  0.,  0.,  0.],\n",
       "       [ 0.,  1.,  0., ...,  0.,  0.,  0.],\n",
       "       [ 0.,  0.,  0., ...,  0.,  1.,  0.],\n",
       "       ..., \n",
       "       [ 0.,  0.,  0., ...,  1.,  0.,  0.],\n",
       "       [ 0.,  0.,  0., ...,  1.,  0.,  0.],\n",
       "       [ 0.,  0.,  0., ...,  0.,  1.,  0.]])"
      ]
     },
     "execution_count": 30,
     "metadata": {},
     "output_type": "execute_result"
    }
   ],
   "source": [
    "#One hot vector:-  \n",
    "#is a unidimensional array of labels into a one-hot varient, where the array is size m (examples) x n (classes)\n",
    "#meaning one value corresponding to the correct label is set to 1 and the others are set to 0\n",
    "def oneHot(label_data):\n",
    "    m = label_data.shape[0]\n",
    "    #label_data = label_data[:,0]\n",
    "    oh_vec = scipy.sparse.csr_matrix((np.ones(m), (label_data, np.array(range(m)))))\n",
    "    oh_vec = np.array(oh_vec.todense()).T\n",
    "    return oh_vec\n",
    "print(\"one hot vector:\")\n",
    "oneHot(train_label)\n"
   ]
  },
  {
   "cell_type": "code",
   "execution_count": 31,
   "metadata": {
    "collapsed": true
   },
   "outputs": [],
   "source": [
    "#Softmax function as we need to classify input data to multiple classes\n",
    "def softmax_reg(predicted_val):\n",
    "    predicted_val -= np.max(predicted_val)\n",
    "    prob = (np.exp(predicted_val).T/np.sum(np.exp(predicted_val),axis=1)).T\n",
    "    return prob\n"
   ]
  },
  {
   "cell_type": "code",
   "execution_count": null,
   "metadata": {
    "collapsed": true
   },
   "outputs": [],
   "source": []
  },
  {
   "cell_type": "code",
   "execution_count": null,
   "metadata": {
    "collapsed": true
   },
   "outputs": [],
   "source": [
    "#Loss function \n",
    "def loss_regression(w,inp_data,out_data,)"
   ]
  }
 ],
 "metadata": {
  "kernelspec": {
   "display_name": "Python 3",
   "language": "python",
   "name": "python3"
  },
  "language_info": {
   "codemirror_mode": {
    "name": "ipython",
    "version": 3
   },
   "file_extension": ".py",
   "mimetype": "text/x-python",
   "name": "python",
   "nbconvert_exporter": "python",
   "pygments_lexer": "ipython3",
   "version": "3.6.2"
  }
 },
 "nbformat": 4,
 "nbformat_minor": 2
}
